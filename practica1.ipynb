{
 "cells": [
  {
   "cell_type": "code",
   "execution_count": 1,
   "id": "6f49d837-9d66-4262-b2b0-3e829b28de8e",
   "metadata": {},
   "outputs": [],
   "source": [
    "import pandas as pd\n"
   ]
  },
  {
   "cell_type": "code",
   "execution_count": 2,
   "id": "5d4765dc-8ffc-4fd9-90b6-483ee2e56910",
   "metadata": {},
   "outputs": [],
   "source": [
    "data = pd.read_csv(\"data/enhanced_anxiety_dataset.csv\", sep=\",\")"
   ]
  },
  {
   "cell_type": "code",
   "execution_count": 3,
   "id": "d4bea76b-5940-48a7-b056-7d670b5c81d5",
   "metadata": {},
   "outputs": [],
   "source": [
    "df_pd = pd.DataFrame(data)"
   ]
  },
  {
   "cell_type": "code",
   "execution_count": 4,
   "id": "106e4b65-6d19-4e86-9662-4f3c74a2461b",
   "metadata": {},
   "outputs": [
    {
     "data": {
      "text/html": [
       "<div>\n",
       "<style scoped>\n",
       "    .dataframe tbody tr th:only-of-type {\n",
       "        vertical-align: middle;\n",
       "    }\n",
       "\n",
       "    .dataframe tbody tr th {\n",
       "        vertical-align: top;\n",
       "    }\n",
       "\n",
       "    .dataframe thead th {\n",
       "        text-align: right;\n",
       "    }\n",
       "</style>\n",
       "<table border=\"1\" class=\"dataframe\">\n",
       "  <thead>\n",
       "    <tr style=\"text-align: right;\">\n",
       "      <th></th>\n",
       "      <th>Age</th>\n",
       "      <th>Gender</th>\n",
       "      <th>Occupation</th>\n",
       "      <th>Sleep Hours</th>\n",
       "      <th>Physical Activity (hrs/week)</th>\n",
       "      <th>Caffeine Intake (mg/day)</th>\n",
       "      <th>Alcohol Consumption (drinks/week)</th>\n",
       "      <th>Smoking</th>\n",
       "      <th>Family History of Anxiety</th>\n",
       "      <th>Stress Level (1-10)</th>\n",
       "      <th>Heart Rate (bpm)</th>\n",
       "      <th>Breathing Rate (breaths/min)</th>\n",
       "      <th>Sweating Level (1-5)</th>\n",
       "      <th>Dizziness</th>\n",
       "      <th>Medication</th>\n",
       "      <th>Therapy Sessions (per month)</th>\n",
       "      <th>Recent Major Life Event</th>\n",
       "      <th>Diet Quality (1-10)</th>\n",
       "      <th>Anxiety Level (1-10)</th>\n",
       "    </tr>\n",
       "  </thead>\n",
       "  <tbody>\n",
       "    <tr>\n",
       "      <th>0</th>\n",
       "      <td>29</td>\n",
       "      <td>Female</td>\n",
       "      <td>Artist</td>\n",
       "      <td>6.0</td>\n",
       "      <td>2.7</td>\n",
       "      <td>181</td>\n",
       "      <td>10</td>\n",
       "      <td>Yes</td>\n",
       "      <td>No</td>\n",
       "      <td>10</td>\n",
       "      <td>114</td>\n",
       "      <td>14</td>\n",
       "      <td>4</td>\n",
       "      <td>No</td>\n",
       "      <td>Yes</td>\n",
       "      <td>3</td>\n",
       "      <td>Yes</td>\n",
       "      <td>7</td>\n",
       "      <td>5.0</td>\n",
       "    </tr>\n",
       "    <tr>\n",
       "      <th>1</th>\n",
       "      <td>46</td>\n",
       "      <td>Other</td>\n",
       "      <td>Nurse</td>\n",
       "      <td>6.2</td>\n",
       "      <td>5.7</td>\n",
       "      <td>200</td>\n",
       "      <td>8</td>\n",
       "      <td>Yes</td>\n",
       "      <td>Yes</td>\n",
       "      <td>1</td>\n",
       "      <td>62</td>\n",
       "      <td>23</td>\n",
       "      <td>2</td>\n",
       "      <td>Yes</td>\n",
       "      <td>No</td>\n",
       "      <td>2</td>\n",
       "      <td>No</td>\n",
       "      <td>8</td>\n",
       "      <td>3.0</td>\n",
       "    </tr>\n",
       "    <tr>\n",
       "      <th>2</th>\n",
       "      <td>64</td>\n",
       "      <td>Male</td>\n",
       "      <td>Other</td>\n",
       "      <td>5.0</td>\n",
       "      <td>3.7</td>\n",
       "      <td>117</td>\n",
       "      <td>4</td>\n",
       "      <td>No</td>\n",
       "      <td>Yes</td>\n",
       "      <td>1</td>\n",
       "      <td>91</td>\n",
       "      <td>28</td>\n",
       "      <td>3</td>\n",
       "      <td>No</td>\n",
       "      <td>No</td>\n",
       "      <td>1</td>\n",
       "      <td>Yes</td>\n",
       "      <td>1</td>\n",
       "      <td>1.0</td>\n",
       "    </tr>\n",
       "    <tr>\n",
       "      <th>3</th>\n",
       "      <td>20</td>\n",
       "      <td>Female</td>\n",
       "      <td>Scientist</td>\n",
       "      <td>5.8</td>\n",
       "      <td>2.8</td>\n",
       "      <td>360</td>\n",
       "      <td>6</td>\n",
       "      <td>Yes</td>\n",
       "      <td>No</td>\n",
       "      <td>4</td>\n",
       "      <td>86</td>\n",
       "      <td>17</td>\n",
       "      <td>3</td>\n",
       "      <td>No</td>\n",
       "      <td>No</td>\n",
       "      <td>0</td>\n",
       "      <td>No</td>\n",
       "      <td>1</td>\n",
       "      <td>2.0</td>\n",
       "    </tr>\n",
       "    <tr>\n",
       "      <th>4</th>\n",
       "      <td>49</td>\n",
       "      <td>Female</td>\n",
       "      <td>Other</td>\n",
       "      <td>8.2</td>\n",
       "      <td>2.3</td>\n",
       "      <td>247</td>\n",
       "      <td>4</td>\n",
       "      <td>Yes</td>\n",
       "      <td>No</td>\n",
       "      <td>1</td>\n",
       "      <td>98</td>\n",
       "      <td>19</td>\n",
       "      <td>4</td>\n",
       "      <td>Yes</td>\n",
       "      <td>Yes</td>\n",
       "      <td>1</td>\n",
       "      <td>No</td>\n",
       "      <td>3</td>\n",
       "      <td>1.0</td>\n",
       "    </tr>\n",
       "    <tr>\n",
       "      <th>...</th>\n",
       "      <td>...</td>\n",
       "      <td>...</td>\n",
       "      <td>...</td>\n",
       "      <td>...</td>\n",
       "      <td>...</td>\n",
       "      <td>...</td>\n",
       "      <td>...</td>\n",
       "      <td>...</td>\n",
       "      <td>...</td>\n",
       "      <td>...</td>\n",
       "      <td>...</td>\n",
       "      <td>...</td>\n",
       "      <td>...</td>\n",
       "      <td>...</td>\n",
       "      <td>...</td>\n",
       "      <td>...</td>\n",
       "      <td>...</td>\n",
       "      <td>...</td>\n",
       "      <td>...</td>\n",
       "    </tr>\n",
       "    <tr>\n",
       "      <th>10995</th>\n",
       "      <td>23</td>\n",
       "      <td>Female</td>\n",
       "      <td>Engineer</td>\n",
       "      <td>6.1</td>\n",
       "      <td>3.1</td>\n",
       "      <td>566</td>\n",
       "      <td>9</td>\n",
       "      <td>Yes</td>\n",
       "      <td>No</td>\n",
       "      <td>8</td>\n",
       "      <td>91</td>\n",
       "      <td>28</td>\n",
       "      <td>1</td>\n",
       "      <td>Yes</td>\n",
       "      <td>Yes</td>\n",
       "      <td>1</td>\n",
       "      <td>No</td>\n",
       "      <td>3</td>\n",
       "      <td>6.0</td>\n",
       "    </tr>\n",
       "    <tr>\n",
       "      <th>10996</th>\n",
       "      <td>50</td>\n",
       "      <td>Other</td>\n",
       "      <td>Teacher</td>\n",
       "      <td>6.6</td>\n",
       "      <td>3.6</td>\n",
       "      <td>64</td>\n",
       "      <td>17</td>\n",
       "      <td>Yes</td>\n",
       "      <td>No</td>\n",
       "      <td>7</td>\n",
       "      <td>95</td>\n",
       "      <td>17</td>\n",
       "      <td>3</td>\n",
       "      <td>No</td>\n",
       "      <td>No</td>\n",
       "      <td>2</td>\n",
       "      <td>No</td>\n",
       "      <td>7</td>\n",
       "      <td>3.0</td>\n",
       "    </tr>\n",
       "    <tr>\n",
       "      <th>10997</th>\n",
       "      <td>29</td>\n",
       "      <td>Male</td>\n",
       "      <td>Nurse</td>\n",
       "      <td>6.7</td>\n",
       "      <td>6.9</td>\n",
       "      <td>159</td>\n",
       "      <td>14</td>\n",
       "      <td>No</td>\n",
       "      <td>No</td>\n",
       "      <td>8</td>\n",
       "      <td>72</td>\n",
       "      <td>16</td>\n",
       "      <td>1</td>\n",
       "      <td>Yes</td>\n",
       "      <td>Yes</td>\n",
       "      <td>2</td>\n",
       "      <td>Yes</td>\n",
       "      <td>7</td>\n",
       "      <td>4.0</td>\n",
       "    </tr>\n",
       "    <tr>\n",
       "      <th>10998</th>\n",
       "      <td>53</td>\n",
       "      <td>Other</td>\n",
       "      <td>Artist</td>\n",
       "      <td>5.7</td>\n",
       "      <td>2.7</td>\n",
       "      <td>248</td>\n",
       "      <td>8</td>\n",
       "      <td>No</td>\n",
       "      <td>No</td>\n",
       "      <td>4</td>\n",
       "      <td>112</td>\n",
       "      <td>28</td>\n",
       "      <td>3</td>\n",
       "      <td>Yes</td>\n",
       "      <td>Yes</td>\n",
       "      <td>1</td>\n",
       "      <td>Yes</td>\n",
       "      <td>2</td>\n",
       "      <td>4.0</td>\n",
       "    </tr>\n",
       "    <tr>\n",
       "      <th>10999</th>\n",
       "      <td>56</td>\n",
       "      <td>Other</td>\n",
       "      <td>Teacher</td>\n",
       "      <td>6.1</td>\n",
       "      <td>1.1</td>\n",
       "      <td>205</td>\n",
       "      <td>11</td>\n",
       "      <td>No</td>\n",
       "      <td>No</td>\n",
       "      <td>1</td>\n",
       "      <td>66</td>\n",
       "      <td>13</td>\n",
       "      <td>3</td>\n",
       "      <td>No</td>\n",
       "      <td>No</td>\n",
       "      <td>2</td>\n",
       "      <td>Yes</td>\n",
       "      <td>8</td>\n",
       "      <td>2.0</td>\n",
       "    </tr>\n",
       "  </tbody>\n",
       "</table>\n",
       "<p>11000 rows × 19 columns</p>\n",
       "</div>"
      ],
      "text/plain": [
       "       Age  Gender Occupation  Sleep Hours  Physical Activity (hrs/week)  \\\n",
       "0       29  Female     Artist          6.0                           2.7   \n",
       "1       46   Other      Nurse          6.2                           5.7   \n",
       "2       64    Male      Other          5.0                           3.7   \n",
       "3       20  Female  Scientist          5.8                           2.8   \n",
       "4       49  Female      Other          8.2                           2.3   \n",
       "...    ...     ...        ...          ...                           ...   \n",
       "10995   23  Female   Engineer          6.1                           3.1   \n",
       "10996   50   Other    Teacher          6.6                           3.6   \n",
       "10997   29    Male      Nurse          6.7                           6.9   \n",
       "10998   53   Other     Artist          5.7                           2.7   \n",
       "10999   56   Other    Teacher          6.1                           1.1   \n",
       "\n",
       "       Caffeine Intake (mg/day)  Alcohol Consumption (drinks/week) Smoking  \\\n",
       "0                           181                                 10     Yes   \n",
       "1                           200                                  8     Yes   \n",
       "2                           117                                  4      No   \n",
       "3                           360                                  6     Yes   \n",
       "4                           247                                  4     Yes   \n",
       "...                         ...                                ...     ...   \n",
       "10995                       566                                  9     Yes   \n",
       "10996                        64                                 17     Yes   \n",
       "10997                       159                                 14      No   \n",
       "10998                       248                                  8      No   \n",
       "10999                       205                                 11      No   \n",
       "\n",
       "      Family History of Anxiety  Stress Level (1-10)  Heart Rate (bpm)  \\\n",
       "0                            No                   10               114   \n",
       "1                           Yes                    1                62   \n",
       "2                           Yes                    1                91   \n",
       "3                            No                    4                86   \n",
       "4                            No                    1                98   \n",
       "...                         ...                  ...               ...   \n",
       "10995                        No                    8                91   \n",
       "10996                        No                    7                95   \n",
       "10997                        No                    8                72   \n",
       "10998                        No                    4               112   \n",
       "10999                        No                    1                66   \n",
       "\n",
       "       Breathing Rate (breaths/min)  Sweating Level (1-5) Dizziness  \\\n",
       "0                                14                     4        No   \n",
       "1                                23                     2       Yes   \n",
       "2                                28                     3        No   \n",
       "3                                17                     3        No   \n",
       "4                                19                     4       Yes   \n",
       "...                             ...                   ...       ...   \n",
       "10995                            28                     1       Yes   \n",
       "10996                            17                     3        No   \n",
       "10997                            16                     1       Yes   \n",
       "10998                            28                     3       Yes   \n",
       "10999                            13                     3        No   \n",
       "\n",
       "      Medication  Therapy Sessions (per month) Recent Major Life Event  \\\n",
       "0            Yes                             3                     Yes   \n",
       "1             No                             2                      No   \n",
       "2             No                             1                     Yes   \n",
       "3             No                             0                      No   \n",
       "4            Yes                             1                      No   \n",
       "...          ...                           ...                     ...   \n",
       "10995        Yes                             1                      No   \n",
       "10996         No                             2                      No   \n",
       "10997        Yes                             2                     Yes   \n",
       "10998        Yes                             1                     Yes   \n",
       "10999         No                             2                     Yes   \n",
       "\n",
       "       Diet Quality (1-10)  Anxiety Level (1-10)  \n",
       "0                        7                   5.0  \n",
       "1                        8                   3.0  \n",
       "2                        1                   1.0  \n",
       "3                        1                   2.0  \n",
       "4                        3                   1.0  \n",
       "...                    ...                   ...  \n",
       "10995                    3                   6.0  \n",
       "10996                    7                   3.0  \n",
       "10997                    7                   4.0  \n",
       "10998                    2                   4.0  \n",
       "10999                    8                   2.0  \n",
       "\n",
       "[11000 rows x 19 columns]"
      ]
     },
     "execution_count": 4,
     "metadata": {},
     "output_type": "execute_result"
    }
   ],
   "source": [
    "df_pd"
   ]
  },
  {
   "cell_type": "code",
   "execution_count": 5,
   "id": "accd4fc6-3f6a-4172-ac27-fa65bcf10581",
   "metadata": {},
   "outputs": [
    {
     "data": {
      "text/plain": [
       "Gender\n",
       "Female    3730\n",
       "Male      3657\n",
       "Other     3613\n",
       "Name: Anxiety Level (1-10), dtype: int64"
      ]
     },
     "execution_count": 5,
     "metadata": {},
     "output_type": "execute_result"
    }
   ],
   "source": [
    "df_pd.groupby(\"Gender\")['Anxiety Level (1-10)'].agg(\"count\")"
   ]
  },
  {
   "cell_type": "code",
   "execution_count": 6,
   "id": "0a4e0d7e-11dc-43dc-af20-ea381bdedfd8",
   "metadata": {},
   "outputs": [],
   "source": [
    "ruta = \"data/enhanced_anxiety_dataset.csv\"\n",
    "ruta_parquet = \"data/enhanced_anxiety_dataset.parquet\""
   ]
  },
  {
   "cell_type": "code",
   "execution_count": 7,
   "id": "93b9f643-f2fa-426e-8dd2-4a9944092751",
   "metadata": {},
   "outputs": [],
   "source": [
    "df_pd = pd.read_csv(ruta)\n",
    "df_pd.to_parquet(ruta_parquet)"
   ]
  },
  {
   "cell_type": "code",
   "execution_count": 8,
   "id": "5f98723f-2cf0-4fe6-b193-a2dba287f4eb",
   "metadata": {},
   "outputs": [
    {
     "name": "stdout",
     "output_type": "stream",
     "text": [
      "Requirement already satisfied: polars in c:\\users\\usuario\\appdata\\local\\programs\\python\\python312\\lib\\site-packages (1.27.1)\n"
     ]
    },
    {
     "name": "stderr",
     "output_type": "stream",
     "text": [
      "\n",
      "[notice] A new release of pip is available: 23.2.1 -> 25.1.1\n",
      "[notice] To update, run: C:\\Users\\usuario\\AppData\\Local\\Programs\\Python\\Python312\\python.exe -m pip install --upgrade pip\n"
     ]
    }
   ],
   "source": [
    "!pip install polars"
   ]
  },
  {
   "cell_type": "code",
   "execution_count": 9,
   "id": "b2f96d8e-db83-4027-9c50-3c3bea6bc7aa",
   "metadata": {},
   "outputs": [],
   "source": [
    "import polars as pl"
   ]
  },
  {
   "cell_type": "code",
   "execution_count": 10,
   "id": "94cdc3da-af0f-4ae9-9b23-c569fe8ee488",
   "metadata": {},
   "outputs": [],
   "source": [
    "df = pl.read_parquet(ruta_parquet)"
   ]
  },
  {
   "cell_type": "code",
   "execution_count": 11,
   "id": "04f0e119-13ad-4538-b213-16369d95c903",
   "metadata": {},
   "outputs": [],
   "source": [
    "import matplotlib.pyplot as plt"
   ]
  },
  {
   "cell_type": "code",
   "execution_count": 12,
   "id": "6d5884dc-7063-469e-a665-ce5c00e53d7a",
   "metadata": {},
   "outputs": [
    {
     "data": {
      "text/html": [
       "<div><style>\n",
       ".dataframe > thead > tr,\n",
       ".dataframe > tbody > tr {\n",
       "  text-align: right;\n",
       "  white-space: pre-wrap;\n",
       "}\n",
       "</style>\n",
       "<small>shape: (5, 19)</small><table border=\"1\" class=\"dataframe\"><thead><tr><th>Age</th><th>Gender</th><th>Occupation</th><th>Sleep Hours</th><th>Physical Activity (hrs/week)</th><th>Caffeine Intake (mg/day)</th><th>Alcohol Consumption (drinks/week)</th><th>Smoking</th><th>Family History of Anxiety</th><th>Stress Level (1-10)</th><th>Heart Rate (bpm)</th><th>Breathing Rate (breaths/min)</th><th>Sweating Level (1-5)</th><th>Dizziness</th><th>Medication</th><th>Therapy Sessions (per month)</th><th>Recent Major Life Event</th><th>Diet Quality (1-10)</th><th>Anxiety Level (1-10)</th></tr><tr><td>i64</td><td>str</td><td>str</td><td>f64</td><td>f64</td><td>i64</td><td>i64</td><td>str</td><td>str</td><td>i64</td><td>i64</td><td>i64</td><td>i64</td><td>str</td><td>str</td><td>i64</td><td>str</td><td>i64</td><td>f64</td></tr></thead><tbody><tr><td>29</td><td>&quot;Female&quot;</td><td>&quot;Artist&quot;</td><td>6.0</td><td>2.7</td><td>181</td><td>10</td><td>&quot;Yes&quot;</td><td>&quot;No&quot;</td><td>10</td><td>114</td><td>14</td><td>4</td><td>&quot;No&quot;</td><td>&quot;Yes&quot;</td><td>3</td><td>&quot;Yes&quot;</td><td>7</td><td>5.0</td></tr><tr><td>46</td><td>&quot;Other&quot;</td><td>&quot;Nurse&quot;</td><td>6.2</td><td>5.7</td><td>200</td><td>8</td><td>&quot;Yes&quot;</td><td>&quot;Yes&quot;</td><td>1</td><td>62</td><td>23</td><td>2</td><td>&quot;Yes&quot;</td><td>&quot;No&quot;</td><td>2</td><td>&quot;No&quot;</td><td>8</td><td>3.0</td></tr><tr><td>64</td><td>&quot;Male&quot;</td><td>&quot;Other&quot;</td><td>5.0</td><td>3.7</td><td>117</td><td>4</td><td>&quot;No&quot;</td><td>&quot;Yes&quot;</td><td>1</td><td>91</td><td>28</td><td>3</td><td>&quot;No&quot;</td><td>&quot;No&quot;</td><td>1</td><td>&quot;Yes&quot;</td><td>1</td><td>1.0</td></tr><tr><td>20</td><td>&quot;Female&quot;</td><td>&quot;Scientist&quot;</td><td>5.8</td><td>2.8</td><td>360</td><td>6</td><td>&quot;Yes&quot;</td><td>&quot;No&quot;</td><td>4</td><td>86</td><td>17</td><td>3</td><td>&quot;No&quot;</td><td>&quot;No&quot;</td><td>0</td><td>&quot;No&quot;</td><td>1</td><td>2.0</td></tr><tr><td>49</td><td>&quot;Female&quot;</td><td>&quot;Other&quot;</td><td>8.2</td><td>2.3</td><td>247</td><td>4</td><td>&quot;Yes&quot;</td><td>&quot;No&quot;</td><td>1</td><td>98</td><td>19</td><td>4</td><td>&quot;Yes&quot;</td><td>&quot;Yes&quot;</td><td>1</td><td>&quot;No&quot;</td><td>3</td><td>1.0</td></tr></tbody></table></div>"
      ],
      "text/plain": [
       "shape: (5, 19)\n",
       "┌─────┬────────┬────────────┬─────────────┬───┬───────────────────────┬──────────────┬──────────────┬───────────────┐\n",
       "│ Age ┆ Gender ┆ Occupation ┆ Sleep Hours ┆ … ┆ Therapy Sessions (per ┆ Recent Major ┆ Diet Quality ┆ Anxiety Level │\n",
       "│ --- ┆ ---    ┆ ---        ┆ ---         ┆   ┆ month)                ┆ Life Event   ┆ (1-10)       ┆ (1-10)        │\n",
       "│ i64 ┆ str    ┆ str        ┆ f64         ┆   ┆ ---                   ┆ ---          ┆ ---          ┆ ---           │\n",
       "│     ┆        ┆            ┆             ┆   ┆ i64                   ┆ str          ┆ i64          ┆ f64           │\n",
       "╞═════╪════════╪════════════╪═════════════╪═══╪═══════════════════════╪══════════════╪══════════════╪═══════════════╡\n",
       "│ 29  ┆ Female ┆ Artist     ┆ 6.0         ┆ … ┆ 3                     ┆ Yes          ┆ 7            ┆ 5.0           │\n",
       "│ 46  ┆ Other  ┆ Nurse      ┆ 6.2         ┆ … ┆ 2                     ┆ No           ┆ 8            ┆ 3.0           │\n",
       "│ 64  ┆ Male   ┆ Other      ┆ 5.0         ┆ … ┆ 1                     ┆ Yes          ┆ 1            ┆ 1.0           │\n",
       "│ 20  ┆ Female ┆ Scientist  ┆ 5.8         ┆ … ┆ 0                     ┆ No           ┆ 1            ┆ 2.0           │\n",
       "│ 49  ┆ Female ┆ Other      ┆ 8.2         ┆ … ┆ 1                     ┆ No           ┆ 3            ┆ 1.0           │\n",
       "└─────┴────────┴────────────┴─────────────┴───┴───────────────────────┴──────────────┴──────────────┴───────────────┘"
      ]
     },
     "execution_count": 12,
     "metadata": {},
     "output_type": "execute_result"
    }
   ],
   "source": [
    "df.head()"
   ]
  },
  {
   "cell_type": "code",
   "execution_count": 32,
   "id": "3ac67ee5-c5ba-43dc-9be3-7ace60956fa1",
   "metadata": {},
   "outputs": [],
   "source": [
    "# Agrupar y contar correctamente en Polars\n",
    "conteo = (\n",
    "    df.group_by('Gender')\n",
    "    .agg([\n",
    "        pl.col('Gender').count().alias('Count'),\n",
    "        pl.col(\"Age\").min(),\n",
    "        pl.col(\"Anxiety Level (1-10)\").min().alias('Anxiety')\n",
    "\n",
    "    ])\n",
    "    .sort('Count', descending=True)\n",
    ")"
   ]
  },
  {
   "cell_type": "code",
   "execution_count": 33,
   "id": "1a094215-cb94-4079-b8d2-90e10c623a47",
   "metadata": {},
   "outputs": [
    {
     "data": {
      "text/html": [
       "<div><style>\n",
       ".dataframe > thead > tr,\n",
       ".dataframe > tbody > tr {\n",
       "  text-align: right;\n",
       "  white-space: pre-wrap;\n",
       "}\n",
       "</style>\n",
       "<small>shape: (3, 4)</small><table border=\"1\" class=\"dataframe\"><thead><tr><th>Gender</th><th>Count</th><th>Age</th><th>Anxiety</th></tr><tr><td>str</td><td>u32</td><td>i64</td><td>f64</td></tr></thead><tbody><tr><td>&quot;Female&quot;</td><td>3730</td><td>18</td><td>1.0</td></tr><tr><td>&quot;Male&quot;</td><td>3657</td><td>17</td><td>1.0</td></tr><tr><td>&quot;Other&quot;</td><td>3613</td><td>16</td><td>1.0</td></tr></tbody></table></div>"
      ],
      "text/plain": [
       "shape: (3, 4)\n",
       "┌────────┬───────┬─────┬─────────┐\n",
       "│ Gender ┆ Count ┆ Age ┆ Anxiety │\n",
       "│ ---    ┆ ---   ┆ --- ┆ ---     │\n",
       "│ str    ┆ u32   ┆ i64 ┆ f64     │\n",
       "╞════════╪═══════╪═════╪═════════╡\n",
       "│ Female ┆ 3730  ┆ 18  ┆ 1.0     │\n",
       "│ Male   ┆ 3657  ┆ 17  ┆ 1.0     │\n",
       "│ Other  ┆ 3613  ┆ 16  ┆ 1.0     │\n",
       "└────────┴───────┴─────┴─────────┘"
      ]
     },
     "execution_count": 33,
     "metadata": {},
     "output_type": "execute_result"
    }
   ],
   "source": [
    "conteo"
   ]
  },
  {
   "cell_type": "code",
   "execution_count": 46,
   "id": "65a416bc-d7bb-4cc5-93ab-551c9d5cb880",
   "metadata": {},
   "outputs": [],
   "source": [
    "vector = df_pd.groupby(\"Gender\")['Gender'].agg(\"count\")"
   ]
  },
  {
   "cell_type": "code",
   "execution_count": 68,
   "id": "e87f727f-571b-4047-b32a-59c5215f6695",
   "metadata": {},
   "outputs": [
    {
     "data": {
      "text/plain": [
       "Gender\n",
       "Female    3730\n",
       "Male      3657\n",
       "Other     3613\n",
       "Name: Gender, dtype: int64"
      ]
     },
     "execution_count": 68,
     "metadata": {},
     "output_type": "execute_result"
    }
   ],
   "source": [
    "vector "
   ]
  },
  {
   "cell_type": "code",
   "execution_count": 82,
   "id": "3d152313-25c2-41eb-9779-001e6fd2ad51",
   "metadata": {},
   "outputs": [
    {
     "data": {
      "image/png": "[encoded data removed]",
      "text/plain": [
       "<Figure size 200x200 with 1 Axes>"
      ]
     },
     "metadata": {},
     "output_type": "display_data"
    }
   ],
   "source": [
    "import matplotlib.pyplot as plt\n",
    "\n",
    "# Pie chart, where the slices will be ordered and plotted counter-clockwise:\n",
    "genero = conteo['Gender'].to_list()\n",
    "cantidad = conteo['Count'].to_list()\n",
    "\n",
    "labels = genero\n",
    "sizes = cantidad\n",
    "explode = (0, 0.1, 0)  # only \"explode\" the 2nd slice (i.e. 'Hogs')\n",
    "\n",
    "fig1, ax1 = plt.subplots()\n",
    "ax1.pie(sizes, explode=explode, labels=labels, autopct='%1.1f%%',\n",
    "        shadow=True, startangle=90)\n",
    "ax1.axis('equal')  # Equal aspect ratio ensures that pie is drawn as a circle.\n",
    "\n",
    "plt.show()"
   ]
  },
  {
   "cell_type": "code",
   "execution_count": null,
   "id": "45d565e3-e1f9-48af-ac01-6ed691f0bef2",
   "metadata": {},
   "outputs": [],
   "source": []
  }
 ],
 "metadata": {
  "kernelspec": {
   "display_name": "Python 3 (ipykernel)",
   "language": "python",
   "name": "python3"
  },
  "language_info": {
   "codemirror_mode": {
    "name": "ipython",
    "version": 3
   },
   "file_extension": ".py",
   "mimetype": "text/x-python",
   "name": "python",
   "nbconvert_exporter": "python",
   "pygments_lexer": "ipython3",
   "version": "3.12.0"
  }
 },
 "nbformat": 4,
 "nbformat_minor": 5
}
